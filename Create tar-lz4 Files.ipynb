{
 "cells": [
  {
   "cell_type": "code",
   "execution_count": 2,
   "id": "0d07b37d",
   "metadata": {
    "execution": {
     "iopub.execute_input": "2021-12-03T03:39:31.620583Z",
     "iopub.status.busy": "2021-12-03T03:39:31.620284Z",
     "iopub.status.idle": "2021-12-03T03:39:31.876472Z",
     "shell.execute_reply": "2021-12-03T03:39:31.875990Z",
     "shell.execute_reply.started": "2021-12-03T03:39:31.620562Z"
    }
   },
   "outputs": [],
   "source": [
    "import multiprocessing\n",
    "import os\n",
    "\n",
    "import numpy as np"
   ]
  },
  {
   "cell_type": "code",
   "execution_count": 4,
   "id": "efa39b48",
   "metadata": {
    "execution": {
     "iopub.execute_input": "2021-12-03T03:39:36.916986Z",
     "iopub.status.busy": "2021-12-03T03:39:36.916691Z",
     "iopub.status.idle": "2021-12-03T03:39:37.399332Z",
     "shell.execute_reply": "2021-12-03T03:39:37.398845Z",
     "shell.execute_reply.started": "2021-12-03T03:39:36.916963Z"
    }
   },
   "outputs": [],
   "source": [
    "file_names = os.listdir(\"temp\")"
   ]
  },
  {
   "cell_type": "code",
   "execution_count": 19,
   "id": "c1fbe698",
   "metadata": {
    "execution": {
     "iopub.execute_input": "2021-12-03T03:40:04.785039Z",
     "iopub.status.busy": "2021-12-03T03:40:04.784751Z",
     "iopub.status.idle": "2021-12-03T03:40:04.969197Z",
     "shell.execute_reply": "2021-12-03T03:40:04.968713Z",
     "shell.execute_reply.started": "2021-12-03T03:40:04.785016Z"
    }
   },
   "outputs": [],
   "source": [
    "split_points = np.random.choice(len(file_names) - 2, 10 - 1, replace=False) + 1\n",
    "split_points.sort()\n",
    "result = np.split(file_names, split_points)"
   ]
  },
  {
   "cell_type": "code",
   "execution_count": 20,
   "id": "736f6a45",
   "metadata": {
    "execution": {
     "iopub.execute_input": "2021-12-03T03:40:05.025132Z",
     "iopub.status.busy": "2021-12-03T03:40:05.024857Z",
     "iopub.status.idle": "2021-12-03T03:40:05.029582Z",
     "shell.execute_reply": "2021-12-03T03:40:05.028987Z",
     "shell.execute_reply.started": "2021-12-03T03:40:05.025112Z"
    }
   },
   "outputs": [
    {
     "name": "stdout",
     "output_type": "stream",
     "text": [
      "68666\n",
      "31636\n",
      "47143\n",
      "76027\n",
      "21812\n",
      "27423\n",
      "118481\n",
      "445054\n",
      "78568\n",
      "85190\n"
     ]
    }
   ],
   "source": [
    "for i in range(len(result)):\n",
    "    print(len(result[i]))"
   ]
  },
  {
   "cell_type": "code",
   "execution_count": 22,
   "id": "b46b221c",
   "metadata": {
    "execution": {
     "iopub.execute_input": "2021-12-03T03:40:19.532376Z",
     "iopub.status.busy": "2021-12-03T03:40:19.532080Z",
     "iopub.status.idle": "2021-12-03T03:40:19.535507Z",
     "shell.execute_reply": "2021-12-03T03:40:19.535031Z",
     "shell.execute_reply.started": "2021-12-03T03:40:19.532354Z"
    }
   },
   "outputs": [],
   "source": [
    "def move_files(filenames, number):\n",
    "    for file in filenames:\n",
    "        os.rename(f\"temp/{file}\", f\"data{number}/{file}\")"
   ]
  },
  {
   "cell_type": "code",
   "execution_count": 24,
   "id": "8eefa266",
   "metadata": {
    "execution": {
     "iopub.execute_input": "2021-12-03T03:41:05.410161Z",
     "iopub.status.busy": "2021-12-03T03:41:05.409841Z",
     "iopub.status.idle": "2021-12-03T03:45:12.534393Z",
     "shell.execute_reply": "2021-12-03T03:45:12.533691Z",
     "shell.execute_reply.started": "2021-12-03T03:41:05.410139Z"
    }
   },
   "outputs": [],
   "source": [
    "with multiprocessing.Pool() as pool:\n",
    "    pool.starmap(move_files, zip(result, range(10)))"
   ]
  },
  {
   "cell_type": "code",
   "execution_count": null,
   "id": "5681e079",
   "metadata": {},
   "outputs": [],
   "source": [
    "%%bash\n",
    "tar cvf - data0 | lz4 > data0.tar.lz4\n",
    "tar cvf - data1 | lz4 > data1.tar.lz4\n",
    "tar cvf - data2 | lz4 > data2.tar.lz4\n",
    "tar cvf - data3 | lz4 > data3.tar.lz4\n",
    "tar cvf - data4 | lz4 > data4.tar.lz4\n",
    "tar cvf - data5 | lz4 > data5.tar.lz4\n",
    "tar cvf - data6 | lz4 > data6.tar.lz4\n",
    "tar cvf - data7 | lz4 > data7.tar.lz4\n",
    "tar cvf - data8 | lz4 > data8.tar.lz4\n",
    "tar cvf - data9 | lz4 > data9.tar.lz4"
   ]
  },
  {
   "cell_type": "code",
   "execution_count": null,
   "id": "afc04685",
   "metadata": {},
   "outputs": [],
   "source": []
  }
 ],
 "metadata": {
  "kernelspec": {
   "display_name": "saturn (Python 3)",
   "language": "python",
   "name": "python3"
  },
  "language_info": {
   "codemirror_mode": {
    "name": "ipython",
    "version": 3
   },
   "file_extension": ".py",
   "mimetype": "text/x-python",
   "name": "python",
   "nbconvert_exporter": "python",
   "pygments_lexer": "ipython3",
   "version": "3.9.7"
  }
 },
 "nbformat": 4,
 "nbformat_minor": 5
}
