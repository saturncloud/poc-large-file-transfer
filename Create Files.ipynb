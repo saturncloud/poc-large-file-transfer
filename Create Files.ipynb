{
 "cells": [
  {
   "cell_type": "code",
   "execution_count": 1,
   "id": "3fd18fc7",
   "metadata": {
    "execution": {
     "iopub.execute_input": "2021-12-03T00:50:39.129714Z",
     "iopub.status.busy": "2021-12-03T00:50:39.129388Z",
     "iopub.status.idle": "2021-12-03T00:50:42.140361Z",
     "shell.execute_reply": "2021-12-03T00:50:42.139517Z",
     "shell.execute_reply.started": "2021-12-03T00:50:39.129649Z"
    }
   },
   "outputs": [
    {
     "name": "stdout",
     "output_type": "stream",
     "text": [
      "Collecting tables\n",
      "  Using cached tables-3.6.1-cp39-cp39-manylinux2010_x86_64.whl (14.3 MB)\n",
      "Collecting numexpr>=2.6.2\n",
      "  Downloading numexpr-2.8.0-cp39-cp39-manylinux_2_17_x86_64.manylinux2014_x86_64.whl (380 kB)\n",
      "     |████████████████████████████████| 380 kB 5.8 MB/s            \n",
      "\u001b[?25hRequirement already satisfied: numpy>=1.9.3 in /opt/conda/envs/saturn/lib/python3.9/site-packages (from tables) (1.20.3)\n",
      "Installing collected packages: numexpr, tables\n",
      "Successfully installed numexpr-2.8.0 tables-3.6.1\n",
      "Note: you may need to restart the kernel to use updated packages.\n"
     ]
    }
   ],
   "source": [
    "%pip install tables"
   ]
  },
  {
   "cell_type": "code",
   "execution_count": 2,
   "id": "f6f252f6",
   "metadata": {
    "execution": {
     "iopub.execute_input": "2021-12-03T00:50:42.142295Z",
     "iopub.status.busy": "2021-12-03T00:50:42.141976Z",
     "iopub.status.idle": "2021-12-03T00:50:42.446386Z",
     "shell.execute_reply": "2021-12-03T00:50:42.445915Z",
     "shell.execute_reply.started": "2021-12-03T00:50:42.142265Z"
    }
   },
   "outputs": [],
   "source": [
    "import os\n",
    "import uuid\n",
    "\n",
    "import numpy as np\n",
    "import pandas as pd"
   ]
  },
  {
   "cell_type": "code",
   "execution_count": 5,
   "id": "ddb955e8",
   "metadata": {
    "execution": {
     "iopub.execute_input": "2021-12-03T00:51:04.642778Z",
     "iopub.status.busy": "2021-12-03T00:51:04.642500Z",
     "iopub.status.idle": "2021-12-03T00:51:04.646227Z",
     "shell.execute_reply": "2021-12-03T00:51:04.645770Z",
     "shell.execute_reply.started": "2021-12-03T00:51:04.642757Z"
    }
   },
   "outputs": [],
   "source": [
    "def create_data(dir, size):\n",
    "    data = pd.DataFrame(np.random.random([size, size / 10]))\n",
    "    filename = uuid.uuid4().hex.upper()[0:16]\n",
    "    data.to_hdf(f\"{dir}/{filename}.h5\", key=\"df\", mode=\"w\", format=\"table\")"
   ]
  },
  {
   "cell_type": "code",
   "execution_count": 20,
   "id": "ba4e984d",
   "metadata": {
    "execution": {
     "iopub.execute_input": "2021-12-03T00:53:12.988278Z",
     "iopub.status.busy": "2021-12-03T00:53:12.987994Z",
     "iopub.status.idle": "2021-12-03T00:53:13.001380Z",
     "shell.execute_reply": "2021-12-03T00:53:13.000939Z",
     "shell.execute_reply.started": "2021-12-03T00:53:12.988258Z"
    }
   },
   "outputs": [],
   "source": [
    "create_data(f\"temp0\", 200)"
   ]
  },
  {
   "cell_type": "code",
   "execution_count": 32,
   "id": "345a9ff6",
   "metadata": {
    "execution": {
     "iopub.execute_input": "2021-12-03T01:01:14.749034Z",
     "iopub.status.busy": "2021-12-03T01:01:14.748739Z",
     "iopub.status.idle": "2021-12-03T03:38:43.951243Z",
     "shell.execute_reply": "2021-12-03T03:38:43.950778Z",
     "shell.execute_reply.started": "2021-12-03T01:01:14.749011Z"
    }
   },
   "outputs": [],
   "source": [
    "path = f\"temp\"\n",
    "if not os.path.exists(path):\n",
    "    os.makedirs(path)\n",
    "    for j in range(1000000):\n",
    "        create_data(f\"temp\", 200)"
   ]
  },
  {
   "cell_type": "code",
   "execution_count": null,
   "id": "2b851a5e",
   "metadata": {},
   "outputs": [],
   "source": []
  }
 ],
 "metadata": {
  "kernelspec": {
   "display_name": "saturn (Python 3)",
   "language": "python",
   "name": "python3"
  },
  "language_info": {
   "codemirror_mode": {
    "name": "ipython",
    "version": 3
   },
   "file_extension": ".py",
   "mimetype": "text/x-python",
   "name": "python",
   "nbconvert_exporter": "python",
   "pygments_lexer": "ipython3",
   "version": "3.9.7"
  }
 },
 "nbformat": 4,
 "nbformat_minor": 5
}
